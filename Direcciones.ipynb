{
 "cells": [
  {
   "cell_type": "code",
   "execution_count": 10,
   "metadata": {},
   "outputs": [
    {
     "name": "stderr",
     "output_type": "stream",
     "text": [
      "C:\\Users\\perse\\AppData\\Local\\Programs\\Python\\Python39\\lib\\site-packages\\pandas\\io\\excel\\_base.py:1272: FutureWarning: Defining usecols with out of bounds indices is deprecated and will raise a ParserError in a future version.\n",
      "  return self._reader.parse(\n"
     ]
    },
    {
     "data": {
      "application/vnd.jupyter.widget-view+json": {
       "model_id": "adde7043a5894f3b93233feb1abee56e",
       "version_major": 2,
       "version_minor": 0
      },
      "text/plain": [
       "interactive(children=(Text(value='50008', description='cp'), Output()), _dom_classes=('widget-interact',))"
      ]
     },
     "metadata": {},
     "output_type": "display_data"
    }
   ],
   "source": [
    "import pandas as pd\n",
    "import numpy as np\n",
    "from ipywidgets import interact\n",
    "\n",
    "puntos = pd.read_excel('puntos.xlsx', header=5, usecols='B:J')\n",
    "\n",
    "@interact(cp='50008')\n",
    "def get_direccion(cp):\n",
    "    try:\n",
    "        icp = int(cp)\n",
    "    except:\n",
    "        icp = 0\n",
    "    direcciones = puntos[puntos['C.P.'] == icp]['Dirección']\n",
    "    if icp:\n",
    "        direcciones.to_clipboard(index=False, header=None)\n",
    "        return direcciones\n",
    "    else:\n",
    "        return 'Sin resultados...'"
   ]
  }
 ],
 "metadata": {
  "interpreter": {
   "hash": "ac87486be1b16460991e5b0e080fbc59c0987ac630135a537afa0dacb13bc0cd"
  },
  "kernelspec": {
   "display_name": "Python 3.9.7 64-bit",
   "name": "python3"
  },
  "language_info": {
   "codemirror_mode": {
    "name": "ipython",
    "version": 3
   },
   "file_extension": ".py",
   "mimetype": "text/x-python",
   "name": "python",
   "nbconvert_exporter": "python",
   "pygments_lexer": "ipython3",
   "version": "3.9.7"
  },
  "orig_nbformat": 4
 },
 "nbformat": 4,
 "nbformat_minor": 2
}
